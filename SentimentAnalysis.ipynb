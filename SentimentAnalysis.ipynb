{
 "cells": [
  {
   "cell_type": "code",
   "execution_count": 1,
   "metadata": {},
   "outputs": [
    {
     "name": "stderr",
     "output_type": "stream",
     "text": [
      "C:\\Anaconda\\lib\\site-packages\\gensim\\utils.py:862: UserWarning: detected Windows; aliasing chunkize to chunkize_serial\n",
      "  warnings.warn(\"detected Windows; aliasing chunkize to chunkize_serial\")\n"
     ]
    }
   ],
   "source": [
    "# gensim modules\n",
    "from gensim import utils\n",
    "from gensim.models.doc2vec import LabeledSentence\n",
    "from gensim.models import Doc2Vec\n",
    "import gensim.models.doc2vec\n",
    "\n",
    "#numpy\n",
    "import numpy as np\n",
    "\n",
    "#classifier\n",
    "from sklearn.linear_model import LogisticRegression\n",
    "from sklearn.metrics import accuracy_score\n",
    "\n",
    "#random\n",
    "import random as rd\n",
    "\n",
    "import multiprocessing\n"
   ]
  },
  {
   "cell_type": "markdown",
   "metadata": {},
   "source": [
    "# Feeding data to Doc2Vec"
   ]
  },
  {
   "cell_type": "code",
   "execution_count": 2,
   "metadata": {
    "collapsed": true
   },
   "outputs": [],
   "source": [
    "cores = multiprocessing.cpu_count()\n",
    "\n",
    "assert gensim.models.doc2vec.FAST_VERSION > -1\n",
    "                    \n",
    "def labeledLineSentence(src):\n",
    "    sentences = []\n",
    "    for key, value in src.items():\n",
    "        with utils.smart_open(\"./Dataset/Doc2Vec/\" + key) as file:\n",
    "            for line_num, line in enumerate(file):\n",
    "                sentences.append(LabeledSentence(utils.to_unicode(line).split(), [value + '_%s' % line_num]))\n",
    "    return sentences\n",
    "    "
   ]
  },
  {
   "cell_type": "code",
   "execution_count": 3,
   "metadata": {
    "collapsed": true,
    "scrolled": true
   },
   "outputs": [],
   "source": [
    "sources = {'test-neg.txt':'TEST_NEG', 'test-pos.txt':'TEST_POS', 'train-neg.txt':'TRAIN_NEG', 'train-pos.txt':'TRAIN_POS'}          \n",
    "sentences = labeledLineSentence(sources)\n"
   ]
  },
  {
   "cell_type": "code",
   "execution_count": 4,
   "metadata": {},
   "outputs": [
    {
     "name": "stdout",
     "output_type": "stream",
     "text": [
      "LabeledSentence(['once', 'again', 'mr', 'costner', 'has', 'dragged', 'out', 'a', 'movie', 'for', 'far', 'longer', 'than', 'necessary', 'aside', 'from', 'the', 'terrific', 'sea', 'rescue', 'sequences', 'of', 'which', 'there', 'are', 'very', 'few', 'i', 'just', 'did', 'not', 'care', 'about', 'any', 'of', 'the', 'characters', 'most', 'of', 'us', 'have', 'ghosts', 'in', 'the', 'closet', 'and', 'costner', 's', 'character', 'are', 'realized', 'early', 'on', 'and', 'then', 'forgotten', 'until', 'much', 'later', 'by', 'which', 'time', 'i', 'did', 'not', 'care', 'the', 'character', 'we', 'should', 'really', 'care', 'about', 'is', 'a', 'very', 'cocky', 'overconfident', 'ashton', 'kutcher', 'the', 'problem', 'is', 'he', 'comes', 'off', 'as', 'kid', 'who', 'thinks', 'he', 's', 'better', 'than', 'anyone', 'else', 'around', 'him', 'and', 'shows', 'no', 'signs', 'of', 'a', 'cluttered', 'closet', 'his', 'only', 'obstacle', 'appears', 'to', 'be', 'winning', 'over', 'costner', 'finally', 'when', 'we', 'are', 'well', 'past', 'the', 'half', 'way', 'point', 'of', 'this', 'stinker', 'costner', 'tells', 'us', 'all', 'about', 'kutcher', 's', 'ghosts', 'we', 'are', 'told', 'why', 'kutcher', 'is', 'driven', 'to', 'be', 'the', 'best', 'with', 'no', 'prior', 'inkling', 'or', 'foreshadowing', 'no', 'magic', 'here', 'it', 'was', 'all', 'i', 'could', 'do', 'to', 'keep', 'from', 'turning', 'it', 'off', 'an', 'hour', 'in'], ['TEST_NEG_0'])\n"
     ]
    }
   ],
   "source": [
    "print(sentences[0])"
   ]
  },
  {
   "cell_type": "markdown",
   "metadata": {},
   "source": [
    "# Build Model"
   ]
  },
  {
   "cell_type": "code",
   "execution_count": 5,
   "metadata": {},
   "outputs": [],
   "source": [
    "size = 100\n",
    "model = Doc2Vec(min_count = 1, window = 10, size = size, sample = 1e-4, negative = 5, workers = 7)\n",
    "model.build_vocab(sentences)"
   ]
  },
  {
   "cell_type": "code",
   "execution_count": 6,
   "metadata": {
    "scrolled": true
   },
   "outputs": [
    {
     "data": {
      "text/plain": [
       "array([ -2.38453178e-03,   1.90860510e-03,   1.87775330e-03,\n",
       "        -4.55366168e-03,  -2.26952383e-04,   3.07140965e-03,\n",
       "        -1.06032530e-03,   2.04565562e-03,  -3.12681613e-03,\n",
       "        -1.38189271e-03,  -4.46624617e-04,  -4.13042400e-03,\n",
       "        -2.73255212e-03,   8.00246897e-04,   2.31104298e-03,\n",
       "         1.58595422e-03,  -1.28207414e-03,   1.24533079e-03,\n",
       "         3.71024339e-03,  -1.33599402e-04,  -2.78958306e-03,\n",
       "         4.83998097e-04,   9.58253455e-04,  -3.61548766e-04,\n",
       "        -3.89931374e-03,  -4.75366972e-03,   1.12996984e-03,\n",
       "        -3.93825723e-03,   4.11498453e-03,  -4.64723259e-03,\n",
       "         2.11902079e-03,  -3.98703059e-03,  -8.77859187e-04,\n",
       "        -4.15391661e-03,  -2.89627584e-04,  -4.74974373e-03,\n",
       "         3.95990955e-03,  -2.36437912e-03,  -1.83135062e-03,\n",
       "        -3.95416655e-03,  -4.95237671e-03,  -3.63501720e-03,\n",
       "         3.06412997e-03,   4.28900775e-03,  -1.46749779e-03,\n",
       "        -1.75904890e-03,  -3.05630092e-04,  -2.02351570e-04,\n",
       "         2.29086680e-03,  -1.59498246e-03,  -3.92249000e-04,\n",
       "        -2.62671104e-03,  -1.08237052e-03,  -3.44329723e-03,\n",
       "         3.00150481e-03,  -3.19635309e-03,   3.41194449e-03,\n",
       "         1.48564507e-03,   4.15669335e-03,  -4.95444192e-03,\n",
       "        -5.46035240e-04,  -4.81054327e-03,  -3.76700214e-03,\n",
       "         2.04077549e-03,   2.11622939e-03,  -4.78106039e-03,\n",
       "         1.76037056e-03,  -1.19662250e-03,  -1.77709688e-03,\n",
       "         2.75670341e-03,  -4.18427400e-03,   4.49956907e-03,\n",
       "         4.94593708e-03,  -2.14233808e-03,   4.89439303e-03,\n",
       "        -6.06299262e-04,  -4.39213961e-03,   1.69537158e-03,\n",
       "        -4.88616619e-03,  -3.87240783e-03,  -1.55347784e-03,\n",
       "         4.96822002e-04,  -4.69281012e-03,   4.08632215e-03,\n",
       "        -3.28978756e-03,   6.96217234e-04,   4.24059294e-03,\n",
       "        -7.98796478e-04,  -4.70654387e-03,   3.56241595e-03,\n",
       "         4.60366160e-03,   3.03385174e-03,   4.73159179e-03,\n",
       "        -7.39569296e-05,  -2.28322065e-03,   3.14013421e-04,\n",
       "         1.05794228e-03,  -3.18811042e-03,   2.83326488e-04,\n",
       "         3.84737109e-03], dtype=float32)"
      ]
     },
     "execution_count": 6,
     "metadata": {},
     "output_type": "execute_result"
    }
   ],
   "source": [
    "model.docvecs['TRAIN_POS_0']"
   ]
  },
  {
   "cell_type": "markdown",
   "metadata": {},
   "source": [
    "# Training Doc2Vec"
   ]
  },
  {
   "cell_type": "code",
   "execution_count": 7,
   "metadata": {},
   "outputs": [
    {
     "name": "stdout",
     "output_type": "stream",
     "text": [
      "5\n"
     ]
    }
   ],
   "source": [
    "print (model.iter)"
   ]
  },
  {
   "cell_type": "code",
   "execution_count": 8,
   "metadata": {
    "collapsed": true
   },
   "outputs": [],
   "source": [
    "def sentences_perm(sentences):\n",
    "    shuffled = list(sentences)\n",
    "    rd.shuffle(shuffled)\n",
    "    return shuffled"
   ]
  },
  {
   "cell_type": "code",
   "execution_count": 9,
   "metadata": {},
   "outputs": [
    {
     "data": {
      "text/plain": [
       "29083359"
      ]
     },
     "execution_count": 9,
     "metadata": {},
     "output_type": "execute_result"
    }
   ],
   "source": [
    "model.train(sentences_perm(sentences),total_examples=model.corpus_count, epochs=model.iter)"
   ]
  },
  {
   "cell_type": "code",
   "execution_count": 10,
   "metadata": {
    "collapsed": true
   },
   "outputs": [],
   "source": [
    "model.save('./imdb_dm.d2v')"
   ]
  },
  {
   "cell_type": "code",
   "execution_count": 11,
   "metadata": {
    "collapsed": true
   },
   "outputs": [],
   "source": [
    "model = Doc2Vec.load('./imdb_dm.d2v')"
   ]
  },
  {
   "cell_type": "code",
   "execution_count": 12,
   "metadata": {},
   "outputs": [
    {
     "data": {
      "text/plain": [
       "array([ 0.02972068, -0.00142612,  0.06047701,  0.11653691, -0.07416739,\n",
       "       -0.00747727,  0.10026734, -0.0338551 , -0.07374521,  0.11026313,\n",
       "       -0.03022147,  0.00205738, -0.02095778, -0.07121395, -0.10889953,\n",
       "        0.06547679,  0.01062731, -0.01629876,  0.04868603,  0.02723386,\n",
       "       -0.0808551 ,  0.01650382, -0.04058064,  0.0438267 ,  0.05928474,\n",
       "       -0.00708922,  0.11191468,  0.00718765,  0.02790818, -0.118869  ,\n",
       "       -0.08172533, -0.03285201,  0.11615658, -0.02895928, -0.00396362,\n",
       "        0.11749085,  0.05435277,  0.09367941,  0.09223774,  0.15321551,\n",
       "        0.04612576, -0.06986682,  0.10730395, -0.06729599, -0.03996442,\n",
       "        0.02622758, -0.05126341, -0.12663378,  0.06557468,  0.03118444,\n",
       "        0.02245084,  0.10784956, -0.02105859,  0.12642653, -0.02037736,\n",
       "        0.0161974 ,  0.0020637 , -0.05732181,  0.02112668, -0.01095946,\n",
       "       -0.06615886,  0.08718764, -0.14085419, -0.01593579, -0.03566695,\n",
       "        0.03767385,  0.09797003,  0.01534426, -0.06969804,  0.0683369 ,\n",
       "       -0.10183457,  0.02035982,  0.02994948,  0.01517032,  0.04578249,\n",
       "       -0.00700248,  0.04732267, -0.05498957, -0.04779805, -0.12905461,\n",
       "       -0.02870361, -0.10810965, -0.13979535,  0.0662882 , -0.02302019,\n",
       "       -0.01023294,  0.14853625, -0.037782  , -0.10672665,  0.01617697,\n",
       "        0.0513223 , -0.00497381, -0.06420697, -0.00411281, -0.09102032,\n",
       "        0.09018295, -0.04942584,  0.0254714 ,  0.00128188, -0.05724725], dtype=float32)"
      ]
     },
     "execution_count": 12,
     "metadata": {},
     "output_type": "execute_result"
    }
   ],
   "source": [
    "model.docvecs['TRAIN_POS_0']"
   ]
  },
  {
   "cell_type": "code",
   "execution_count": 13,
   "metadata": {},
   "outputs": [],
   "source": [
    "train_arrays = np.zeros((25000, 100))\n",
    "train_labels = np.zeros(25000)\n",
    "\n",
    "for i in range(12500):\n",
    "    prefix_train_pos = 'TRAIN_POS_' + str(i)\n",
    "    prefix_train_neg = 'TRAIN_NEG_' + str(i)\n",
    "    train_arrays[i] = model.docvecs[prefix_train_pos]\n",
    "    train_arrays[12500 + i] = model.docvecs[prefix_train_neg]\n",
    "    train_labels[i] = 1\n",
    "    train_labels[12500 + i] = 0"
   ]
  },
  {
   "cell_type": "code",
   "execution_count": 14,
   "metadata": {},
   "outputs": [],
   "source": [
    "test_arrays = np.zeros((25000, 100))\n",
    "test_labels = np.zeros(25000)\n",
    "\n",
    "for i in range(12500):\n",
    "    prefix_test_pos = 'TEST_POS_' + str(i)\n",
    "    prefix_test_neg = 'TEST_NEG_' + str(i)\n",
    "    test_arrays[i] = model.docvecs[prefix_test_pos]\n",
    "    test_arrays[12500 + i] = model.docvecs[prefix_test_neg]\n",
    "    test_labels[i] = 1\n",
    "    test_labels[12500 + i] = 0"
   ]
  },
  {
   "cell_type": "code",
   "execution_count": 15,
   "metadata": {},
   "outputs": [
    {
     "name": "stdout",
     "output_type": "stream",
     "text": [
      "1.0\n"
     ]
    }
   ],
   "source": [
    "print (train_labels[54])"
   ]
  },
  {
   "cell_type": "code",
   "execution_count": 16,
   "metadata": {},
   "outputs": [],
   "source": [
    "classifier = LogisticRegression()\n",
    "classifier.fit(train_arrays, train_labels)\n",
    "y_pred = classifier.predict(test_arrays)"
   ]
  },
  {
   "cell_type": "code",
   "execution_count": 20,
   "metadata": {},
   "outputs": [
    {
     "name": "stdout",
     "output_type": "stream",
     "text": [
      "83.224\n"
     ]
    }
   ],
   "source": [
    "print (accuracy_score(test_labels, y_pred)*100)"
   ]
  },
  {
   "cell_type": "markdown",
   "metadata": {},
   "source": [
    "# ROC Curve"
   ]
  },
  {
   "cell_type": "code",
   "execution_count": 18,
   "metadata": {},
   "outputs": [
    {
     "data": {
      "image/png": "[encoded data removed]",
      "text/plain": [
       "<matplotlib.figure.Figure at 0x125619bd630>"
      ]
     },
     "metadata": {},
     "output_type": "display_data"
    }
   ],
   "source": [
    "from sklearn.metrics import roc_curve, auc\n",
    "%matplotlib inline\n",
    "import matplotlib.pyplot as plt\n",
    "pred_probas = classifier.predict_proba(test_arrays)[:,1]\n",
    "fpr, tpr,_ = roc_curve(test_labels, pred_probas)\n",
    "roc_auc = auc(fpr, tpr)\n",
    "plt.plot(fpr, tpr, label='area = %.2f' %roc_auc)\n",
    "plt.plot([0, 1], [0, 1], 'k--')\n",
    "plt.xlim([0.0, 1.0])\n",
    "plt.ylim([0.0, 1.0])\n",
    "plt.legend(loc='lower right')\n",
    "plt.show()"
   ]
  }
 ],
 "metadata": {
  "kernelspec": {
   "display_name": "Python 3",
   "language": "python",
   "name": "python3"
  },
  "language_info": {
   "codemirror_mode": {
    "name": "ipython",
    "version": 3
   },
   "file_extension": ".py",
   "mimetype": "text/x-python",
   "name": "python",
   "nbconvert_exporter": "python",
   "pygments_lexer": "ipython3",
   "version": "3.6.3"
  }
 },
 "nbformat": 4,
 "nbformat_minor": 2
}
